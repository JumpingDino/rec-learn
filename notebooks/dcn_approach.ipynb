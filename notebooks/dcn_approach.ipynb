{
 "cells": [
  {
   "cell_type": "code",
   "execution_count": null,
   "id": "e94de474",
   "metadata": {},
   "outputs": [],
   "source": [
    "import pandas as pd\n",
    "import os\n",
    "\n",
    "from sklearn.preprocessing import MultiLabelBinarizer\n",
    "\n",
    "import numpy as np\n",
    "import pandas as pd\n",
    "from sklearn.preprocessing import LabelEncoder, MinMaxScaler\n",
    "from sklearn.model_selection import train_test_split\n",
    "from sklearn.metrics import roc_auc_score\n",
    "from itertools import chain\n",
    "import torch\n",
    "\n",
    "from deepctr_torch.models import DCN\n",
    "from deepctr_torch.inputs import (\n",
    "    SparseFeat, DenseFeat,\n",
    "    VarLenSparseFeat, get_feature_names\n",
    ")\n",
    "\n",
    "\n",
    "def pad_genres(seqs, maxlen):\n",
    "    padded = np.zeros((len(seqs), maxlen), dtype='int32')\n",
    "    for i, seq in enumerate(seqs):\n",
    "        length = min(len(seq), maxlen)\n",
    "        padded[i, :length] = seq[:length]\n",
    "    return padded\n",
    "\n",
    "# read movies.dat from movielens 1m dataset\n",
    "def read_movies_1m():\n",
    "    file_path = os.path.join('..', 'data', 'ml-1m', 'movies.dat')\n",
    "    movies = pd.read_csv(file_path, sep='::', header=None, names=['movieId', 'title', 'genres'], engine='python', encoding='latin-1')\n",
    "\n",
    "    # transforma the genres column into a list of genres\n",
    "    movies['genres_list'] = movies['genres'].str.split('|')\n",
    "\n",
    "    mlb = MultiLabelBinarizer()\n",
    "    genres_encoded = mlb.fit_transform(movies['genres_list'])\n",
    "    ohe_genres = pd.DataFrame(genres_encoded, columns=mlb.classes_, index=movies.index)\n",
    "    movies = pd.concat([movies, ohe_genres], axis=1)\n",
    "    return movies\n",
    "\n",
    "# read ratings.dat from movielens 1m dataset\n",
    "def read_ratings_1m():\n",
    "    file_path = os.path.join('..', 'data', 'ml-1m', 'ratings.dat')\n",
    "    ratings = pd.read_csv(file_path, sep='::', header=None, names=['userId', 'movieId', 'rating', 'timestamp'], engine='python', encoding='latin-1')\n",
    "\n",
    "    ratings['label'] = ratings['rating'] >= 4\n",
    "    ratings.drop(columns='rating', inplace=True)\n",
    "    # Convert timestamp to datetime and extract information about the day of the week/hour and so on\n",
    "    ratings['timestamp'] = pd.to_datetime(ratings['timestamp'], unit='s')\n",
    "    ratings['day_of_week'] = ratings['timestamp'].dt.dayofweek\n",
    "    ratings['hour'] = ratings['timestamp'].dt.hour\n",
    "    ratings.drop(columns='timestamp', inplace=True)\n",
    "\n",
    "\n",
    "    return ratings\n",
    "\n",
    "# read users.dat from movielens 1m dataset\n",
    "def read_users_1m():\n",
    "    file_path = os.path.join('..', 'data', 'ml-1m', 'users.dat')\n",
    "    users = pd.read_csv(file_path, sep='::', header=None, names=['userId', 'gender', 'age', 'occupation', 'zip'], engine='python', encoding='latin-1')\n",
    "    return users\n",
    "\n",
    "# Read the datasets\n",
    "movies = read_movies_1m()\n",
    "ratings = read_ratings_1m()\n",
    "users = read_users_1m()"
   ]
  },
  {
   "cell_type": "code",
   "execution_count": 29,
   "metadata": {},
   "outputs": [],
   "source": [
    "# Merge the datasets into a single DataFrame\n",
    "df = (ratings\n",
    "        .merge(users, on=\"userId\")\n",
    "        .merge(movies, on=\"movieId\"))\n",
    "\n",
    "sparse_features = [\"userId\", \"movieId\", \"occupation\", \"gender\", \"zip\"]\n",
    "\n",
    "for f in sparse_features:\n",
    "    df[f] = LabelEncoder().fit_transform(df[f])\n",
    "\n",
    "# rescale to [0,1] so it isn’t dwarfed by embeddings\n",
    "df[\"age\"] = MinMaxScaler().fit_transform(df[[\"age\"]])\n",
    "\n",
    "# ▶ variable-length multi-hot feature – movie genres\n",
    "df[\"genres_list\"] = df[\"genres\"].str.split(\"|\")\n",
    "all_genres = sorted(set(chain.from_iterable(df[\"genres_list\"])))\n",
    "genre2idx = {g: i + 1 for i, g in enumerate(all_genres)}   # 0 reserved for padding\n",
    "df[\"genres_idx\"] = df[\"genres_list\"].apply(lambda lst: [genre2idx[g] for g in lst])\n",
    "max_genre_len = df[\"genres_idx\"].str.len().max()\n",
    "df[\"genres\"] = pad_genres(df[\"genres_idx\"].tolist(), max_genre_len)"
   ]
  },
  {
   "cell_type": "code",
   "execution_count": 40,
   "metadata": {},
   "outputs": [
    {
     "data": {
      "application/vnd.microsoft.datawrangler.viewer.v0+json": {
       "columns": [
        {
         "name": "index",
         "rawType": "int64",
         "type": "integer"
        },
        {
         "name": "genres_idx",
         "rawType": "object",
         "type": "unknown"
        }
       ],
       "ref": "40362b52-14c7-45c6-8019-9d86464a0583",
       "rows": [
        [
         "0",
         "[8]"
        ],
        [
         "1",
         "[3, 4, 12]"
        ],
        [
         "2",
         "[12, 14]"
        ],
        [
         "3",
         "[8]"
        ],
        [
         "4",
         "[3, 4, 5]"
        ],
        [
         "5",
         "[1, 2, 5, 14]"
        ],
        [
         "6",
         "[1, 2, 8]"
        ],
        [
         "7",
         "[5, 8]"
        ],
        [
         "8",
         "[3, 4, 12]"
        ],
        [
         "9",
         "[2, 4, 8, 12]"
        ],
        [
         "10",
         "[3, 4, 12]"
        ],
        [
         "11",
         "[12]"
        ],
        [
         "12",
         "[8]"
        ],
        [
         "13",
         "[5]"
        ],
        [
         "14",
         "[12]"
        ],
        [
         "15",
         "[5]"
        ],
        [
         "16",
         "[3, 4]"
        ],
        [
         "17",
         "[3, 4]"
        ],
        [
         "18",
         "[8]"
        ],
        [
         "19",
         "[5, 9]"
        ],
        [
         "20",
         "[5]"
        ],
        [
         "21",
         "[3]"
        ],
        [
         "22",
         "[5, 15]"
        ],
        [
         "23",
         "[8, 17]"
        ],
        [
         "24",
         "[14]"
        ],
        [
         "25",
         "[3, 4, 12, 14]"
        ],
        [
         "26",
         "[4, 8, 9, 15]"
        ],
        [
         "27",
         "[8, 14]"
        ],
        [
         "28",
         "[8]"
        ],
        [
         "29",
         "[3, 5, 16]"
        ],
        [
         "30",
         "[3, 4]"
        ],
        [
         "31",
         "[8]"
        ],
        [
         "32",
         "[2, 3, 4, 5, 12]"
        ],
        [
         "33",
         "[3, 4, 5, 12]"
        ],
        [
         "34",
         "[3, 4]"
        ],
        [
         "35",
         "[3, 4, 12]"
        ],
        [
         "36",
         "[8]"
        ],
        [
         "37",
         "[3, 4, 12]"
        ],
        [
         "38",
         "[16]"
        ],
        [
         "39",
         "[8]"
        ],
        [
         "40",
         "[3, 4, 5]"
        ],
        [
         "41",
         "[8]"
        ],
        [
         "42",
         "[8]"
        ],
        [
         "43",
         "[1, 6, 14]"
        ],
        [
         "44",
         "[1, 2, 9, 15]"
        ],
        [
         "45",
         "[4, 5, 12]"
        ],
        [
         "46",
         "[3, 4, 12]"
        ],
        [
         "47",
         "[8]"
        ],
        [
         "48",
         "[1, 8, 17]"
        ],
        [
         "49",
         "[4, 8]"
        ]
       ],
       "shape": {
        "columns": 1,
        "rows": 1000209
       }
      },
      "text/plain": [
       "0                    [8]\n",
       "1             [3, 4, 12]\n",
       "2               [12, 14]\n",
       "3                    [8]\n",
       "4              [3, 4, 5]\n",
       "               ...      \n",
       "1000204              [5]\n",
       "1000205      [8, 14, 17]\n",
       "1000206           [5, 8]\n",
       "1000207              [8]\n",
       "1000208    [4, 8, 9, 15]\n",
       "Name: genres_idx, Length: 1000209, dtype: object"
      ]
     },
     "execution_count": 40,
     "metadata": {},
     "output_type": "execute_result"
    }
   ],
   "source": [
    "df[\"genres_idx\"]"
   ]
  },
  {
   "cell_type": "code",
   "execution_count": null,
   "metadata": {},
   "outputs": [
    {
     "data": {
      "application/vnd.microsoft.datawrangler.viewer.v0+json": {
       "columns": [
        {
         "name": "index",
         "rawType": "int64",
         "type": "integer"
        },
        {
         "name": "genres",
         "rawType": "int32",
         "type": "integer"
        }
       ],
       "ref": "261409fc-2867-43c4-b62b-2d40821764a7",
       "rows": [
        [
         "0",
         "8"
        ],
        [
         "1",
         "3"
        ],
        [
         "2",
         "12"
        ],
        [
         "3",
         "8"
        ],
        [
         "4",
         "3"
        ],
        [
         "5",
         "1"
        ],
        [
         "6",
         "1"
        ],
        [
         "7",
         "5"
        ],
        [
         "8",
         "3"
        ],
        [
         "9",
         "2"
        ],
        [
         "10",
         "3"
        ],
        [
         "11",
         "12"
        ],
        [
         "12",
         "8"
        ],
        [
         "13",
         "5"
        ],
        [
         "14",
         "12"
        ],
        [
         "15",
         "5"
        ],
        [
         "16",
         "3"
        ],
        [
         "17",
         "3"
        ],
        [
         "18",
         "8"
        ],
        [
         "19",
         "5"
        ],
        [
         "20",
         "5"
        ],
        [
         "21",
         "3"
        ],
        [
         "22",
         "5"
        ],
        [
         "23",
         "8"
        ],
        [
         "24",
         "14"
        ],
        [
         "25",
         "3"
        ],
        [
         "26",
         "4"
        ],
        [
         "27",
         "8"
        ],
        [
         "28",
         "8"
        ],
        [
         "29",
         "3"
        ],
        [
         "30",
         "3"
        ],
        [
         "31",
         "8"
        ],
        [
         "32",
         "2"
        ],
        [
         "33",
         "3"
        ],
        [
         "34",
         "3"
        ],
        [
         "35",
         "3"
        ],
        [
         "36",
         "8"
        ],
        [
         "37",
         "3"
        ],
        [
         "38",
         "16"
        ],
        [
         "39",
         "8"
        ],
        [
         "40",
         "3"
        ],
        [
         "41",
         "8"
        ],
        [
         "42",
         "8"
        ],
        [
         "43",
         "1"
        ],
        [
         "44",
         "1"
        ],
        [
         "45",
         "4"
        ],
        [
         "46",
         "3"
        ],
        [
         "47",
         "8"
        ],
        [
         "48",
         "1"
        ],
        [
         "49",
         "4"
        ]
       ],
       "shape": {
        "columns": 1,
        "rows": 1000209
       }
      },
      "text/plain": [
       "0           8\n",
       "1           3\n",
       "2          12\n",
       "3           8\n",
       "4           3\n",
       "           ..\n",
       "1000204     5\n",
       "1000205     8\n",
       "1000206     5\n",
       "1000207     8\n",
       "1000208     4\n",
       "Name: genres, Length: 1000209, dtype: int32"
      ]
     },
     "execution_count": 38,
     "metadata": {},
     "output_type": "execute_result"
    }
   ],
   "source": [
    "mlb = MultiLabelBinarizer()\n",
    "mlb.fit(df)\n"
   ]
  },
  {
   "cell_type": "code",
   "execution_count": 37,
   "metadata": {},
   "outputs": [
    {
     "data": {
      "application/vnd.microsoft.datawrangler.viewer.v0+json": {
       "columns": [
        {
         "name": "index",
         "rawType": "int64",
         "type": "integer"
        },
        {
         "name": "genres",
         "rawType": "int32",
         "type": "integer"
        }
       ],
       "ref": "4b8bdf7a-86d9-4005-b341-769f71f2a8a9",
       "rows": [
        [
         "956410",
         "8"
        ],
        [
         "621889",
         "5"
        ],
        [
         "796644",
         "1"
        ],
        [
         "294334",
         "8"
        ],
        [
         "893817",
         "8"
        ],
        [
         "588955",
         "15"
        ],
        [
         "271287",
         "1"
        ],
        [
         "4289",
         "7"
        ],
        [
         "995541",
         "3"
        ],
        [
         "634063",
         "1"
        ],
        [
         "356064",
         "5"
        ],
        [
         "925714",
         "8"
        ],
        [
         "753244",
         "5"
        ],
        [
         "718852",
         "1"
        ],
        [
         "889769",
         "2"
        ],
        [
         "910484",
         "1"
        ],
        [
         "576132",
         "1"
        ],
        [
         "299702",
         "7"
        ],
        [
         "497767",
         "1"
        ],
        [
         "881066",
         "5"
        ],
        [
         "875267",
         "3"
        ],
        [
         "28365",
         "8"
        ],
        [
         "911651",
         "5"
        ],
        [
         "719996",
         "5"
        ],
        [
         "873580",
         "6"
        ],
        [
         "828903",
         "1"
        ],
        [
         "428235",
         "11"
        ],
        [
         "873749",
         "8"
        ],
        [
         "648504",
         "1"
        ],
        [
         "546856",
         "5"
        ]
       ],
       "shape": {
        "columns": 1,
        "rows": 30
       }
      },
      "text/plain": [
       "956410     8\n",
       "621889     5\n",
       "796644     1\n",
       "294334     8\n",
       "893817     8\n",
       "588955    15\n",
       "271287     1\n",
       "4289       7\n",
       "995541     3\n",
       "634063     1\n",
       "356064     5\n",
       "925714     8\n",
       "753244     5\n",
       "718852     1\n",
       "889769     2\n",
       "910484     1\n",
       "576132     1\n",
       "299702     7\n",
       "497767     1\n",
       "881066     5\n",
       "875267     3\n",
       "28365      8\n",
       "911651     5\n",
       "719996     5\n",
       "873580     6\n",
       "828903     1\n",
       "428235    11\n",
       "873749     8\n",
       "648504     1\n",
       "546856     5\n",
       "Name: genres, dtype: int32"
      ]
     },
     "execution_count": 37,
     "metadata": {},
     "output_type": "execute_result"
    }
   ],
   "source": [
    "df['genres'].sample(30)"
   ]
  },
  {
   "cell_type": "code",
   "execution_count": 16,
   "metadata": {},
   "outputs": [
    {
     "data": {
      "text/plain": [
       "[SparseFeat(name='userId', vocabulary_size=6040, embedding_dim=8, use_hash=False, dtype='int32', embedding_name='userId', group_name='default_group'),\n",
       " SparseFeat(name='movieId', vocabulary_size=3706, embedding_dim=8, use_hash=False, dtype='int32', embedding_name='movieId', group_name='default_group'),\n",
       " SparseFeat(name='occupation', vocabulary_size=21, embedding_dim=8, use_hash=False, dtype='int32', embedding_name='occupation', group_name='default_group'),\n",
       " SparseFeat(name='gender', vocabulary_size=2, embedding_dim=8, use_hash=False, dtype='int32', embedding_name='gender', group_name='default_group'),\n",
       " SparseFeat(name='zip', vocabulary_size=3439, embedding_dim=8, use_hash=False, dtype='int32', embedding_name='zip', group_name='default_group'),\n",
       " DenseFeat(name='age', dimension=1, dtype='float32')]"
      ]
     },
     "execution_count": 16,
     "metadata": {},
     "output_type": "execute_result"
    }
   ],
   "source": [
    "[SparseFeat(f, df[f].nunique(), embedding_dim=8) for f in sparse_features] + [DenseFeat(\"age\", 1)]"
   ]
  },
  {
   "cell_type": "code",
   "execution_count": 33,
   "metadata": {},
   "outputs": [
    {
     "ename": "NameError",
     "evalue": "name 'sparse_feats' is not defined",
     "output_type": "error",
     "traceback": [
      "\u001b[31m---------------------------------------------------------------------------\u001b[39m",
      "\u001b[31mNameError\u001b[39m                                 Traceback (most recent call last)",
      "\u001b[36mCell\u001b[39m\u001b[36m \u001b[39m\u001b[32mIn[33]\u001b[39m\u001b[32m, line 31\u001b[39m\n\u001b[32m     28\u001b[39m train_input = build_inputs(train)\n\u001b[32m     29\u001b[39m test_input  = build_inputs(test)\n\u001b[32m---> \u001b[39m\u001b[32m31\u001b[39m train_model_input = {name: train[name].to_numpy(dtype=\u001b[33m\"\u001b[39m\u001b[33mint32\u001b[39m\u001b[33m\"\u001b[39m \u001b[38;5;28;01mif\u001b[39;00m name \u001b[38;5;129;01min\u001b[39;00m \u001b[43msparse_feats\u001b[49m \u001b[38;5;28;01melse\u001b[39;00m \u001b[33m\"\u001b[39m\u001b[33mfloat32\u001b[39m\u001b[33m\"\u001b[39m)\n\u001b[32m     32\u001b[39m                      \u001b[38;5;28;01mfor\u001b[39;00m name \u001b[38;5;129;01min\u001b[39;00m feature_names}\n\u001b[32m     34\u001b[39m \u001b[38;5;66;03m# 6. Compile & train DCN\u001b[39;00m\n\u001b[32m     35\u001b[39m \u001b[38;5;66;03m# -------------------------------------------------\u001b[39;00m\n\u001b[32m     36\u001b[39m device = \u001b[33m\"\u001b[39m\u001b[33mcuda\u001b[39m\u001b[33m\"\u001b[39m \u001b[38;5;28;01mif\u001b[39;00m torch.cuda.is_available() \u001b[38;5;28;01melse\u001b[39;00m \u001b[33m\"\u001b[39m\u001b[33mcpu\u001b[39m\u001b[33m\"\u001b[39m\n",
      "\u001b[31mNameError\u001b[39m: name 'sparse_feats' is not defined"
     ]
    }
   ],
   "source": [
    "# 4. Build DeepCTR feature columns\n",
    "# -------------------------------------------------\n",
    "fixlen_feats = [SparseFeat(f, df[f].nunique(), embedding_dim=8) for f in sparse_features] + [DenseFeat(\"age\", 1)]\n",
    "\n",
    "varlen_feats = [\n",
    "    VarLenSparseFeat(\n",
    "        SparseFeat(\"genres\", vocabulary_size=len(genre2idx) + 1, embedding_dim=8),\n",
    "        maxlen=max_genre_len,\n",
    "        combiner=\"mean\"\n",
    "    )\n",
    "]\n",
    "\n",
    "linear_feature_columns = fixlen_feats + varlen_feats\n",
    "dnn_feature_columns    = fixlen_feats + varlen_feats\n",
    "feature_names = get_feature_names(linear_feature_columns + dnn_feature_columns)\n",
    "feature_names = get_feature_names(linear_feature_columns + dnn_feature_columns)\n",
    "\n",
    "# 5. Train / test split and input dicts\n",
    "# -------------------------------------------------\n",
    "train, test = train_test_split(df, test_size=0.2, random_state=42)\n",
    "\n",
    "def build_inputs(df_part):\n",
    "    X = {name: df_part[name].values                 # sparse & dense\n",
    "         for name in sparse_features + [\"age\"]}\n",
    "    X[\"genres\"] = df_part[\"genres_idx\"].tolist()    # var-len needs list-of-lists\n",
    "    return X\n",
    "\n",
    "train_input = build_inputs(train)\n",
    "test_input  = build_inputs(test)\n",
    "\n",
    "train_model_input = {name: train[name].to_numpy(dtype=\"int32\" if name in sparse_feats else \"float32\")\n",
    "                     for name in feature_names}\n",
    "\n",
    "# 6. Compile & train DCN\n",
    "# -------------------------------------------------\n",
    "device = \"cuda\" if torch.cuda.is_available() else \"cpu\"\n",
    "\n",
    "model = DCN(\n",
    "    linear_feature_columns,\n",
    "    dnn_feature_columns,\n",
    "    task=\"binary\",\n",
    "    device=device,\n",
    "    # optional hyper-params\n",
    "    dnn_hidden_units=(128, 128),\n",
    "    cross_num=3\n",
    ")\n",
    "\n",
    "model.compile(\"adam\",\n",
    "              \"binary_crossentropy\",\n",
    "              metrics=[\"binary_crossentropy\", \"auc\"])\n",
    "\n",
    "\n",
    "model.fit(\n",
    "    #train_input, train[\"label\"].values,\n",
    "    train_model_input, train[\"label\"].to_numpy(),\n",
    "    batch_size=1024,\n",
    "    epochs=5,\n",
    "    verbose=2,\n",
    "    validation_split=0.1\n",
    ")\n",
    "\n",
    "# 7. Evaluate\n",
    "# -------------------------------------------------\n",
    "preds = model.predict(test_input, batch_size=1024)\n",
    "print(\"Test AUC:\", roc_auc_score(test[\"label\"].values, preds))"
   ]
  },
  {
   "cell_type": "code",
   "execution_count": null,
   "metadata": {},
   "outputs": [],
   "source": []
  },
  {
   "cell_type": "code",
   "execution_count": 31,
   "metadata": {},
   "outputs": [
    {
     "name": "stdout",
     "output_type": "stream",
     "text": [
      "0 <class 'str'> None\n",
      "1 <class 'str'> None\n",
      "2 <class 'str'> None\n",
      "3 <class 'str'> None\n",
      "4 <class 'str'> None\n",
      "5 <class 'str'> None\n",
      "6 <class 'str'> None\n"
     ]
    }
   ],
   "source": [
    "for k, v in enumerate(train_input):\n",
    "    print(k, type(v), getattr(v, \"shape\", None))"
   ]
  },
  {
   "cell_type": "code",
   "execution_count": 28,
   "metadata": {},
   "outputs": [
    {
     "ename": "SyntaxError",
     "evalue": "invalid syntax (1572661882.py, line 1)",
     "output_type": "error",
     "traceback": [
      "  \u001b[36mCell\u001b[39m\u001b[36m \u001b[39m\u001b[32mIn[28]\u001b[39m\u001b[32m, line 1\u001b[39m\n\u001b[31m    \u001b[39m\u001b[31mtrain_input['genres'].\u001b[39m\n                          ^\n\u001b[31mSyntaxError\u001b[39m\u001b[31m:\u001b[39m invalid syntax\n"
     ]
    }
   ],
   "source": [
    "train_input['genres']."
   ]
  },
  {
   "cell_type": "code",
   "execution_count": null,
   "metadata": {},
   "outputs": [],
   "source": []
  },
  {
   "cell_type": "code",
   "execution_count": null,
   "metadata": {},
   "outputs": [],
   "source": []
  },
  {
   "cell_type": "code",
   "execution_count": 33,
   "metadata": {},
   "outputs": [
    {
     "data": {
      "text/plain": [
       "[[5, 8, 17],\n",
       " [16],\n",
       " [1, 16],\n",
       " [5, 8],\n",
       " [8],\n",
       " [1, 6],\n",
       " [8],\n",
       " [5, 14],\n",
       " [15, 16],\n",
       " [8, 17],\n",
       " [1],\n",
       " [5, 8],\n",
       " [6, 8],\n",
       " [5],\n",
       " [8],\n",
       " [5, 6, 9],\n",
       " [1, 8],\n",
       " [5, 8, 14],\n",
       " [16],\n",
       " [1, 2, 15],\n",
       " [8],\n",
       " [5, 6],\n",
       " [1, 5, 18],\n",
       " [1, 6, 16],\n",
       " [5, 8],\n",
       " [8, 17],\n",
       " [5],\n",
       " [8, 17],\n",
       " [8, 17],\n",
       " [8, 17],\n",
       " [8, 13, 16],\n",
       " [5, 15],\n",
       " [3, 5],\n",
       " [8],\n",
       " [8, 12],\n",
       " [8],\n",
       " [5],\n",
       " [5, 8],\n",
       " [1, 16],\n",
       " [2, 5],\n",
       " [1, 8],\n",
       " [8, 17],\n",
       " [6, 8],\n",
       " [4, 5, 9],\n",
       " [1, 5, 18],\n",
       " [8],\n",
       " [1, 18],\n",
       " [1, 15],\n",
       " [1, 6, 8],\n",
       " [6, 16],\n",
       " [1, 2, 5, 14],\n",
       " [5],\n",
       " [8],\n",
       " [5, 8],\n",
       " [8, 14],\n",
       " [1, 16],\n",
       " [8, 16],\n",
       " [1],\n",
       " [5, 8],\n",
       " [5, 8],\n",
       " [1, 15],\n",
       " [8],\n",
       " [8, 16],\n",
       " [1, 8],\n",
       " [10, 15],\n",
       " [3, 4, 5],\n",
       " [6, 8],\n",
       " [5],\n",
       " [5],\n",
       " [1, 2, 15],\n",
       " [11],\n",
       " [5],\n",
       " [8],\n",
       " [5, 8],\n",
       " [1, 15, 16],\n",
       " [1, 15, 16],\n",
       " [2, 9, 14],\n",
       " [1, 2, 16],\n",
       " [8],\n",
       " [6, 8, 15],\n",
       " [5],\n",
       " [1, 11],\n",
       " [11, 16],\n",
       " [5, 14],\n",
       " [1, 2, 16],\n",
       " [16],\n",
       " [11, 15, 16],\n",
       " [1, 2, 14, 15, 17],\n",
       " [5, 15],\n",
       " [15],\n",
       " [5, 17],\n",
       " [5],\n",
       " [5, 8, 14],\n",
       " [5],\n",
       " [15, 16],\n",
       " [2, 5, 12],\n",
       " [8],\n",
       " [3, 4, 12],\n",
       " [1, 15, 16, 18],\n",
       " [5],\n",
       " [8, 16],\n",
       " [8],\n",
       " [8, 14, 17],\n",
       " [1],\n",
       " [3, 4],\n",
       " [5, 14],\n",
       " [5],\n",
       " [5, 14],\n",
       " [7],\n",
       " [1, 11, 15, 16],\n",
       " [5],\n",
       " [5, 6],\n",
       " [5, 8, 14],\n",
       " [16],\n",
       " [1, 2, 15, 16],\n",
       " [13, 16],\n",
       " [8, 16],\n",
       " [5, 14],\n",
       " [1, 14, 16],\n",
       " [8, 17],\n",
       " [5, 14],\n",
       " [1, 2, 15],\n",
       " [8, 17],\n",
       " [14],\n",
       " [5],\n",
       " [8],\n",
       " [8],\n",
       " [5, 8],\n",
       " [1, 2, 15],\n",
       " [8],\n",
       " [1, 2, 15],\n",
       " [3, 4],\n",
       " [8],\n",
       " [8, 17],\n",
       " [10, 15],\n",
       " [8],\n",
       " [8, 16],\n",
       " [5, 8],\n",
       " [6, 16],\n",
       " [8],\n",
       " [6, 8],\n",
       " [15, 17],\n",
       " [1, 2, 17],\n",
       " [11, 15],\n",
       " [1],\n",
       " [1, 15, 16],\n",
       " [5],\n",
       " [5, 8],\n",
       " [8],\n",
       " [8, 17],\n",
       " [8],\n",
       " [1, 2, 5, 14],\n",
       " [9, 15],\n",
       " [8],\n",
       " [3, 4],\n",
       " [5],\n",
       " [2, 3, 10],\n",
       " [8, 16],\n",
       " [8],\n",
       " [1, 2, 5, 14],\n",
       " [1, 8, 14, 16],\n",
       " [2, 3, 15],\n",
       " [8, 14, 17],\n",
       " [1, 2, 15],\n",
       " [5],\n",
       " [16],\n",
       " [1],\n",
       " [1, 2, 16],\n",
       " [6, 8, 16],\n",
       " [1, 2, 5, 6],\n",
       " [8, 17],\n",
       " [5],\n",
       " [3, 4, 5],\n",
       " [5, 11],\n",
       " [8],\n",
       " [1, 2, 5, 14],\n",
       " [5, 14],\n",
       " [5],\n",
       " [12, 14],\n",
       " [1, 2, 4, 5],\n",
       " [8],\n",
       " [6, 8, 16],\n",
       " [5, 14],\n",
       " [8, 13],\n",
       " [8],\n",
       " [5],\n",
       " [10, 16],\n",
       " [5, 12],\n",
       " [8, 16],\n",
       " [1, 5],\n",
       " [1, 2, 16],\n",
       " [1, 5, 18],\n",
       " [1, 6, 15],\n",
       " [2, 3, 15],\n",
       " [5],\n",
       " [1, 5, 8],\n",
       " [1, 14, 17],\n",
       " [1, 5],\n",
       " [11, 16],\n",
       " [10, 13, 16],\n",
       " [8],\n",
       " [1, 8, 14],\n",
       " [6, 10, 16],\n",
       " [5],\n",
       " [1, 15, 16],\n",
       " [5],\n",
       " [3, 4],\n",
       " [5],\n",
       " [8, 14],\n",
       " [6, 16],\n",
       " [5, 8],\n",
       " [2, 12],\n",
       " [1, 15, 16],\n",
       " [10, 16],\n",
       " [1, 15],\n",
       " [5],\n",
       " [10, 13],\n",
       " [8],\n",
       " [1],\n",
       " [10, 16],\n",
       " [5, 8],\n",
       " [5],\n",
       " [1, 2, 8],\n",
       " [11, 15],\n",
       " [5],\n",
       " [5, 14],\n",
       " [8, 14],\n",
       " [5, 6],\n",
       " [8, 14, 17],\n",
       " [5],\n",
       " [8, 14],\n",
       " [1, 2, 15],\n",
       " [6, 16],\n",
       " [8, 16],\n",
       " [16],\n",
       " [8, 11],\n",
       " [5],\n",
       " [5, 8],\n",
       " [5, 8],\n",
       " [8, 14],\n",
       " [6, 8, 16],\n",
       " [1, 15, 16],\n",
       " [8],\n",
       " [1, 2, 15, 16],\n",
       " [8],\n",
       " [5, 14],\n",
       " [5, 14, 17],\n",
       " [1, 15, 17],\n",
       " [5],\n",
       " [5],\n",
       " [5, 15],\n",
       " [5],\n",
       " [8],\n",
       " [1, 5, 17],\n",
       " [5],\n",
       " [1, 2, 9, 15],\n",
       " [8],\n",
       " [5],\n",
       " [1, 2, 5, 6],\n",
       " [6, 8],\n",
       " [1, 5, 9],\n",
       " [18],\n",
       " [3, 4],\n",
       " [8],\n",
       " [8, 13],\n",
       " [11],\n",
       " [1, 8, 17],\n",
       " [6, 8],\n",
       " [1, 2, 13],\n",
       " [2, 4, 9, 15],\n",
       " [5, 11],\n",
       " [6, 10, 13, 16],\n",
       " [1, 2, 9],\n",
       " [5, 6, 9],\n",
       " [6, 8],\n",
       " [8, 17],\n",
       " [10, 14, 16],\n",
       " [8],\n",
       " [8, 17],\n",
       " [6, 8, 14, 16],\n",
       " [6, 10, 16],\n",
       " [1, 11, 15],\n",
       " [8, 14],\n",
       " [1, 15, 16],\n",
       " [5, 11, 16],\n",
       " [1, 2, 5, 15],\n",
       " [5],\n",
       " [1, 2, 11],\n",
       " [8, 10],\n",
       " [1, 2, 15],\n",
       " [8, 14],\n",
       " [3, 4],\n",
       " [2, 15, 16],\n",
       " [5, 12],\n",
       " [5, 15],\n",
       " [6, 8],\n",
       " [1, 15, 18],\n",
       " [8, 14, 17],\n",
       " [4, 8, 9, 15],\n",
       " [5, 6, 16],\n",
       " [1, 5, 6, 8],\n",
       " [8, 16],\n",
       " [1, 8],\n",
       " [11],\n",
       " [8],\n",
       " [8],\n",
       " [8],\n",
       " [8],\n",
       " [8],\n",
       " [1, 2, 6],\n",
       " [8, 17],\n",
       " [5, 8],\n",
       " [1, 6, 8],\n",
       " [1],\n",
       " [5],\n",
       " [8, 16],\n",
       " [1, 15],\n",
       " [5],\n",
       " [5],\n",
       " [8, 14],\n",
       " [5, 8, 18],\n",
       " [5],\n",
       " [1, 15],\n",
       " [6, 10],\n",
       " [2, 3, 10],\n",
       " [6, 8],\n",
       " [1, 2],\n",
       " [2, 4, 9],\n",
       " [11],\n",
       " [8, 17],\n",
       " [3, 4, 12],\n",
       " [11, 16],\n",
       " [10, 13, 16],\n",
       " [1, 15, 16],\n",
       " [14],\n",
       " [5],\n",
       " [8],\n",
       " [6, 16],\n",
       " [1, 2, 15],\n",
       " [1, 17],\n",
       " [1, 15, 16],\n",
       " [10, 13, 16],\n",
       " [5, 13, 16],\n",
       " [11],\n",
       " [1, 15, 18],\n",
       " [6, 8, 16],\n",
       " [5],\n",
       " [5, 14],\n",
       " [5, 14],\n",
       " [1, 11, 15, 16],\n",
       " [8],\n",
       " [8],\n",
       " [4, 5],\n",
       " [1, 8, 17],\n",
       " [2],\n",
       " [2, 15, 16],\n",
       " [4, 5],\n",
       " [2, 9, 14],\n",
       " [2, 4, 14],\n",
       " [7],\n",
       " [11, 16],\n",
       " [16],\n",
       " [1, 2, 5, 11, 15],\n",
       " [5, 8],\n",
       " [1, 2, 15],\n",
       " [8],\n",
       " [5],\n",
       " [1, 16],\n",
       " [5, 14],\n",
       " [6, 8, 16],\n",
       " [5],\n",
       " [1, 16],\n",
       " [11],\n",
       " [4, 5, 8],\n",
       " [1, 15],\n",
       " [8, 16],\n",
       " [1, 16],\n",
       " [1, 2, 6, 8],\n",
       " [1, 2, 15],\n",
       " [8, 16],\n",
       " [16],\n",
       " [5, 14],\n",
       " [2, 9, 14],\n",
       " [8, 14],\n",
       " [1, 8, 13],\n",
       " [8, 14, 17],\n",
       " [2, 15],\n",
       " [8],\n",
       " [5, 14],\n",
       " [5, 14],\n",
       " [8, 14, 17],\n",
       " [5, 15],\n",
       " [5, 15],\n",
       " [2, 3, 4, 5, 12],\n",
       " [1, 2, 9],\n",
       " [8],\n",
       " [5],\n",
       " [8],\n",
       " [5],\n",
       " [4, 5],\n",
       " [18],\n",
       " [6, 10, 13, 16],\n",
       " [8],\n",
       " [5],\n",
       " [13],\n",
       " [8, 14, 17],\n",
       " [1, 8, 17],\n",
       " [3, 4, 12],\n",
       " [8],\n",
       " [1, 8, 17],\n",
       " [5, 9],\n",
       " [8, 14],\n",
       " [2, 4, 15],\n",
       " [5, 15],\n",
       " [2, 8, 18],\n",
       " [5],\n",
       " [1, 13, 15, 16],\n",
       " [8],\n",
       " [1, 6, 14],\n",
       " [4, 9, 15],\n",
       " [5, 8],\n",
       " [8],\n",
       " [1, 2, 15],\n",
       " [2, 3, 15, 16],\n",
       " [5, 11],\n",
       " [5, 8],\n",
       " [5],\n",
       " [8],\n",
       " [1, 8],\n",
       " [2, 3, 15],\n",
       " [1, 2, 5],\n",
       " [5, 8],\n",
       " [10, 13],\n",
       " [18],\n",
       " [5],\n",
       " [6, 8],\n",
       " [3, 12],\n",
       " [8, 13],\n",
       " [1, 8],\n",
       " [15, 16],\n",
       " [10, 13],\n",
       " [5, 14],\n",
       " [2, 3, 4, 5, 12],\n",
       " [8],\n",
       " [11, 15],\n",
       " [1, 8, 17],\n",
       " [1, 14, 16],\n",
       " [5, 14],\n",
       " [1, 15],\n",
       " [7],\n",
       " [1, 2, 15],\n",
       " [6, 10, 16],\n",
       " [5, 12],\n",
       " [1, 6],\n",
       " [2, 8],\n",
       " [2, 4, 14],\n",
       " [1, 2, 8, 15, 17],\n",
       " [5, 8],\n",
       " [8],\n",
       " [8],\n",
       " [5, 14],\n",
       " [2, 14, 15],\n",
       " [8],\n",
       " [11, 16],\n",
       " [6, 10, 13, 16],\n",
       " [5, 8],\n",
       " [2, 4, 8, 12],\n",
       " [13, 15, 16],\n",
       " [11, 15],\n",
       " [4, 5],\n",
       " [6, 10, 13, 16],\n",
       " [8],\n",
       " [1, 2, 15],\n",
       " [16],\n",
       " [5],\n",
       " [5, 14],\n",
       " [10, 16],\n",
       " [8, 16],\n",
       " [1, 15, 17],\n",
       " [5, 14],\n",
       " [13],\n",
       " [1, 2],\n",
       " [2, 3, 10],\n",
       " [8, 17],\n",
       " [1, 2, 5, 14],\n",
       " [5, 11],\n",
       " [8],\n",
       " [5],\n",
       " [8],\n",
       " [8],\n",
       " [5, 7],\n",
       " [7],\n",
       " [5, 6],\n",
       " [8, 15],\n",
       " [1, 6, 14],\n",
       " [1, 8],\n",
       " [8, 14],\n",
       " [5, 14],\n",
       " [1, 16],\n",
       " [5, 14],\n",
       " [1, 5, 6, 11, 16],\n",
       " [1, 2, 15],\n",
       " [15],\n",
       " [1, 2, 11],\n",
       " [1, 2, 5, 14],\n",
       " [8],\n",
       " [2, 4, 15],\n",
       " [8],\n",
       " [5],\n",
       " [10, 13, 16],\n",
       " [1, 2],\n",
       " [1, 14, 16],\n",
       " [5, 8],\n",
       " [13, 16],\n",
       " [5],\n",
       " [1, 2],\n",
       " [5, 12],\n",
       " [2, 5, 8],\n",
       " [2, 4, 5, 9, 15],\n",
       " [5, 14],\n",
       " [1],\n",
       " [1, 6],\n",
       " [14],\n",
       " [5],\n",
       " [1, 5, 12],\n",
       " [1, 2, 13],\n",
       " [8],\n",
       " [1, 15, 18],\n",
       " [1, 6],\n",
       " [7],\n",
       " [1, 2, 6, 8],\n",
       " [1, 5, 9],\n",
       " [5, 14],\n",
       " [5, 8],\n",
       " [1],\n",
       " [16],\n",
       " [8],\n",
       " [15, 16],\n",
       " [3, 4, 5],\n",
       " [5, 14],\n",
       " [3, 4, 12],\n",
       " [2, 8, 14, 15],\n",
       " [1, 6, 13, 16],\n",
       " [3, 4, 5],\n",
       " [5],\n",
       " [5],\n",
       " [6, 8],\n",
       " [8],\n",
       " [11],\n",
       " [8],\n",
       " [6, 8],\n",
       " [8],\n",
       " [1, 17],\n",
       " [8, 14],\n",
       " [1, 2, 15],\n",
       " [1, 8, 17],\n",
       " [8, 14],\n",
       " [1, 15, 17],\n",
       " [1, 2, 15, 16],\n",
       " [5, 8],\n",
       " [1, 2, 5, 11, 15],\n",
       " [1, 16],\n",
       " [8, 13, 16],\n",
       " [1, 15],\n",
       " [8],\n",
       " [5],\n",
       " [4, 15],\n",
       " [5, 14],\n",
       " [5, 14],\n",
       " [5, 14],\n",
       " [5, 12],\n",
       " [5, 14],\n",
       " [16],\n",
       " [5, 8],\n",
       " [2, 5, 8],\n",
       " [8],\n",
       " [5, 11],\n",
       " [1, 5, 6, 8],\n",
       " [1, 11, 15],\n",
       " [5],\n",
       " [5],\n",
       " [2, 8],\n",
       " [5],\n",
       " [5, 8],\n",
       " [8, 14],\n",
       " [1, 15, 16, 18],\n",
       " [8],\n",
       " [5, 18],\n",
       " [1, 2, 15, 16],\n",
       " [1, 6, 14],\n",
       " [1, 2],\n",
       " [3, 4, 12],\n",
       " [12],\n",
       " [1, 16],\n",
       " [8, 12],\n",
       " [8, 14],\n",
       " [5],\n",
       " [16],\n",
       " [1, 11, 15, 16],\n",
       " [8],\n",
       " [1, 15],\n",
       " [1, 2, 14, 15, 17],\n",
       " [5],\n",
       " [1, 2, 16],\n",
       " [1, 15, 16, 17],\n",
       " [6],\n",
       " [5],\n",
       " [8],\n",
       " [3, 4, 5, 12],\n",
       " [6, 8, 13, 16],\n",
       " [8, 16],\n",
       " [5, 8],\n",
       " [1, 6, 8],\n",
       " [6, 8, 16],\n",
       " [15, 16],\n",
       " [1, 2, 15, 16],\n",
       " [2, 15],\n",
       " [1, 8, 15, 16],\n",
       " [3, 5],\n",
       " [5],\n",
       " [8],\n",
       " [8, 17],\n",
       " [1, 15, 16],\n",
       " [8, 16],\n",
       " [1, 2, 5],\n",
       " [5, 18],\n",
       " [16],\n",
       " [5],\n",
       " [5, 9, 14, 15],\n",
       " [5],\n",
       " [8, 12],\n",
       " [5],\n",
       " [6, 16],\n",
       " [11, 15],\n",
       " [1, 2, 5, 14],\n",
       " [5, 14],\n",
       " [5],\n",
       " [3, 4],\n",
       " [1, 16],\n",
       " [3, 4],\n",
       " [2, 4],\n",
       " [1, 2],\n",
       " [13, 16],\n",
       " [5, 14],\n",
       " [3, 4, 5],\n",
       " [1, 6, 8],\n",
       " [1, 16],\n",
       " [1, 5, 18],\n",
       " [5],\n",
       " [1, 2],\n",
       " [2, 4, 9, 15],\n",
       " [13, 16],\n",
       " [1, 8, 13],\n",
       " [1, 8],\n",
       " [1, 2, 3, 11, 15],\n",
       " [1],\n",
       " [2, 5],\n",
       " [1, 2, 6, 8],\n",
       " [13, 16],\n",
       " [8, 13, 16],\n",
       " [5, 8],\n",
       " [5],\n",
       " [3, 4],\n",
       " [8, 13, 15, 16],\n",
       " [5, 14],\n",
       " [5],\n",
       " [2, 4, 8, 12],\n",
       " [11],\n",
       " [6, 8],\n",
       " [10, 15],\n",
       " [8],\n",
       " [1, 16],\n",
       " [11, 16],\n",
       " [5, 8],\n",
       " [8],\n",
       " [2, 4, 8, 12],\n",
       " [5],\n",
       " [5, 12],\n",
       " [6, 10, 13, 16],\n",
       " [2, 4, 5],\n",
       " [5],\n",
       " [5, 8, 14],\n",
       " [8],\n",
       " [11],\n",
       " [10],\n",
       " [1, 8, 17],\n",
       " [2, 4, 5, 9],\n",
       " [16],\n",
       " [11],\n",
       " [5],\n",
       " [8, 14],\n",
       " [6, 16],\n",
       " [13],\n",
       " [5, 14],\n",
       " [2, 5, 8],\n",
       " [5, 14],\n",
       " [1, 2, 9, 15],\n",
       " [8],\n",
       " [6, 8, 16],\n",
       " [8, 14],\n",
       " [3, 4, 5],\n",
       " [5, 6, 13, 16],\n",
       " [1, 15],\n",
       " [4, 5, 12],\n",
       " [5, 11, 12, 15],\n",
       " [5, 15],\n",
       " [8],\n",
       " [8],\n",
       " [5, 8, 14],\n",
       " [8, 15],\n",
       " [13, 15, 16],\n",
       " [1, 2, 6, 8],\n",
       " [16],\n",
       " [1, 2, 15],\n",
       " [1, 2, 5, 11, 15],\n",
       " [5],\n",
       " [3, 4, 5, 12],\n",
       " [8, 9, 14, 16],\n",
       " [1, 2, 13],\n",
       " [1, 15],\n",
       " [8],\n",
       " [5],\n",
       " [1, 2, 8, 15, 17],\n",
       " [5, 8],\n",
       " [5, 8],\n",
       " [8, 16],\n",
       " [5],\n",
       " [1, 5, 6, 8],\n",
       " [5, 11, 12, 15],\n",
       " [6, 8, 10, 16],\n",
       " [5],\n",
       " [1, 2],\n",
       " [5],\n",
       " [2, 4, 8, 12],\n",
       " [5],\n",
       " [1, 2, 15],\n",
       " [11],\n",
       " [8, 13, 16],\n",
       " [8],\n",
       " [8],\n",
       " [5, 6, 11],\n",
       " [5],\n",
       " [8, 11],\n",
       " [1, 2],\n",
       " [1, 5, 15, 17],\n",
       " [8],\n",
       " [1, 2, 9, 15],\n",
       " [5],\n",
       " [5, 11],\n",
       " [5],\n",
       " [8],\n",
       " [8, 17],\n",
       " [8, 14, 17],\n",
       " [5],\n",
       " [13, 16],\n",
       " [5],\n",
       " [8, 16],\n",
       " [11],\n",
       " [8, 16],\n",
       " [1, 2, 15],\n",
       " [5],\n",
       " [8, 14],\n",
       " [8],\n",
       " [1, 8],\n",
       " [1, 15],\n",
       " [13, 14, 16],\n",
       " [8],\n",
       " [1, 15],\n",
       " [5],\n",
       " [11, 15],\n",
       " [5, 9],\n",
       " [14, 16],\n",
       " [5],\n",
       " [8],\n",
       " [2, 4, 8],\n",
       " [5],\n",
       " [1, 17],\n",
       " [3, 4, 5],\n",
       " [5, 8],\n",
       " [8],\n",
       " [1, 11],\n",
       " [8, 14, 17],\n",
       " [16],\n",
       " [2, 4, 5, 12],\n",
       " [1, 2, 14, 17],\n",
       " [8],\n",
       " [5, 8],\n",
       " [4, 8, 9, 15],\n",
       " [2, 4, 9],\n",
       " [8],\n",
       " [1, 2, 15],\n",
       " [8],\n",
       " [8],\n",
       " [5],\n",
       " [5, 14, 15],\n",
       " [8],\n",
       " [5, 14],\n",
       " [1, 8],\n",
       " [8, 14],\n",
       " [8, 13],\n",
       " [14],\n",
       " [11],\n",
       " [5, 8],\n",
       " [8],\n",
       " [1, 16],\n",
       " [6, 16],\n",
       " [5],\n",
       " [5],\n",
       " [1, 15],\n",
       " [8],\n",
       " [1, 11, 15, 16],\n",
       " [8, 14],\n",
       " [8, 14],\n",
       " [1, 8, 17],\n",
       " [8, 14, 17],\n",
       " [1, 2, 15],\n",
       " [5],\n",
       " [7],\n",
       " [5, 6, 16],\n",
       " [5, 15],\n",
       " [1, 8],\n",
       " [5],\n",
       " [16],\n",
       " [5, 8],\n",
       " [8, 14],\n",
       " [4, 5],\n",
       " [6, 8, 14, 16],\n",
       " [1, 8],\n",
       " [1, 5, 6, 11, 16],\n",
       " [1, 16],\n",
       " [3, 4, 5, 12],\n",
       " [1, 2],\n",
       " [1, 2, 16],\n",
       " [5, 14],\n",
       " [5, 8, 14],\n",
       " [16],\n",
       " [8],\n",
       " [5, 9],\n",
       " [1, 2, 5, 6],\n",
       " [1, 2, 15, 16],\n",
       " [8, 14],\n",
       " [1, 2, 15],\n",
       " [5, 15],\n",
       " [3, 4],\n",
       " [8, 16, 17],\n",
       " [1, 2, 5],\n",
       " [1, 2, 9, 15],\n",
       " [6, 8, 10, 16],\n",
       " [5, 8],\n",
       " [1, 8, 17],\n",
       " [3, 4],\n",
       " [2, 17],\n",
       " [5],\n",
       " [16],\n",
       " [1, 5, 18],\n",
       " [5, 8],\n",
       " [1, 15, 16],\n",
       " [1, 16],\n",
       " [5],\n",
       " [6, 8, 16],\n",
       " [15, 16],\n",
       " [6, 16],\n",
       " [5],\n",
       " [5],\n",
       " [1, 2, 15, 16],\n",
       " [5],\n",
       " [1, 11],\n",
       " [5],\n",
       " [11, 15, 16],\n",
       " [1, 2, 15],\n",
       " [5, 8],\n",
       " [5, 8, 14],\n",
       " [16],\n",
       " [5],\n",
       " [8],\n",
       " [5],\n",
       " [3, 4],\n",
       " [6, 10, 16],\n",
       " [2, 4, 9],\n",
       " [2, 8, 14, 15],\n",
       " [5],\n",
       " [2, 3, 4, 5, 12],\n",
       " [1, 8, 13, 14, 16],\n",
       " [1, 2, 13, 15],\n",
       " [1, 5, 6, 11, 16],\n",
       " [1, 5, 18],\n",
       " [1, 2, 6],\n",
       " [12, 14],\n",
       " [8],\n",
       " [3, 4, 5],\n",
       " [15, 17],\n",
       " [6, 8],\n",
       " [1, 2, 13],\n",
       " [1, 2, 9, 15],\n",
       " [1, 5, 14, 16],\n",
       " [5, 6],\n",
       " [1, 6, 15],\n",
       " [3, 4, 12],\n",
       " [5, 14],\n",
       " [8],\n",
       " [8, 11],\n",
       " [5, 8],\n",
       " [5, 8],\n",
       " [8, 16],\n",
       " [5, 14],\n",
       " [10, 13, 16],\n",
       " [8],\n",
       " [4, 5, 15],\n",
       " [1, 2, 15],\n",
       " [8, 13, 16],\n",
       " [18],\n",
       " [5, 8],\n",
       " [8],\n",
       " [5, 9],\n",
       " [8],\n",
       " [1, 15, 17],\n",
       " [5, 14, 17],\n",
       " [1, 2],\n",
       " [1, 6, 15],\n",
       " [5, 8],\n",
       " [1, 15, 16],\n",
       " [5],\n",
       " [10, 15],\n",
       " [8],\n",
       " [5, 14, 16],\n",
       " [5, 6],\n",
       " [8],\n",
       " [11, 15],\n",
       " [8, 14],\n",
       " [1, 2, 9, 15],\n",
       " [1, 8, 17],\n",
       " [2, 17],\n",
       " [1, 2, 15, 16],\n",
       " [2, 4, 15],\n",
       " [8, 15],\n",
       " [5],\n",
       " [8],\n",
       " [5, 16],\n",
       " [8],\n",
       " [8, 16],\n",
       " [8],\n",
       " [3, 4, 5, 12],\n",
       " [1, 5, 12],\n",
       " [1, 8, 17],\n",
       " [5],\n",
       " [5, 8],\n",
       " [3, 5],\n",
       " [8],\n",
       " [5, 9],\n",
       " [5, 6],\n",
       " [6, 16],\n",
       " [1, 8],\n",
       " [2, 4, 9],\n",
       " [1, 8, 17],\n",
       " [8],\n",
       " [8, 14],\n",
       " [8],\n",
       " [8, 17],\n",
       " [16],\n",
       " [1, 8, 14, 16],\n",
       " [14],\n",
       " [1, 2, 9],\n",
       " [1, 8, 17],\n",
       " [1, 16],\n",
       " [5, 11],\n",
       " [1, 6, 16],\n",
       " [5, 8],\n",
       " [2, 17],\n",
       " [5, 8],\n",
       " [8],\n",
       " [3, 5],\n",
       " [11, 16],\n",
       " [5],\n",
       " [1, 8, 16],\n",
       " [1, 11, 15, 16],\n",
       " [1, 15],\n",
       " [6, 8],\n",
       " [5, 8],\n",
       " [5],\n",
       " [4, 5],\n",
       " [5, 8],\n",
       " [8],\n",
       " [8],\n",
       " [1, 2, 15],\n",
       " [5, 14],\n",
       " [1, 2, 15, 16],\n",
       " [4, 8],\n",
       " [4, 5, 12],\n",
       " [2, 5, 15],\n",
       " [8],\n",
       " [1, 16],\n",
       " [1, 5, 6, 8],\n",
       " [5],\n",
       " [8],\n",
       " [8],\n",
       " [8],\n",
       " [8],\n",
       " [1, 11, 15, 16],\n",
       " [16],\n",
       " [5, 8],\n",
       " ...]"
      ]
     },
     "execution_count": 33,
     "metadata": {},
     "output_type": "execute_result"
    }
   ],
   "source": [
    "train_input['genres']"
   ]
  }
 ],
 "metadata": {
  "kernelspec": {
   "display_name": "3.12.2",
   "language": "python",
   "name": "python3"
  },
  "language_info": {
   "codemirror_mode": {
    "name": "ipython",
    "version": 3
   },
   "file_extension": ".py",
   "mimetype": "text/x-python",
   "name": "python",
   "nbconvert_exporter": "python",
   "pygments_lexer": "ipython3",
   "version": "3.12.2"
  }
 },
 "nbformat": 4,
 "nbformat_minor": 5
}
